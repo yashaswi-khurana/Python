{
 "cells": [
  {
   "cell_type": "code",
   "execution_count": 1,
   "id": "431d23c7-bf98-4b3e-aa0c-bf8bc6ebba4b",
   "metadata": {},
   "outputs": [],
   "source": [
    "import numpy as np\n",
    "import pandas as pd"
   ]
  },
  {
   "cell_type": "code",
   "execution_count": 2,
   "id": "01292e30-179d-4eea-9d09-5554fa0abc41",
   "metadata": {},
   "outputs": [],
   "source": [
    "df=[['Google',2019,139.20],\n",
    "    ['Apple',2019,260],\n",
    "    ['Facebook',2019,704]]"
   ]
  },
  {
   "cell_type": "code",
   "execution_count": 3,
   "id": "2ad6adc0-c18f-4033-a626-3d8063babe4c",
   "metadata": {},
   "outputs": [
    {
     "name": "stdout",
     "output_type": "stream",
     "text": [
      "    Company  year  revenue\n",
      "0    Google  2019    139.2\n",
      "1     Apple  2019    260.0\n",
      "2  Facebook  2019    704.0\n"
     ]
    }
   ],
   "source": [
    "companies=pd.DataFrame(df,columns=('Company','year','revenue'))\n",
    "print(companies)"
   ]
  },
  {
   "cell_type": "code",
   "execution_count": 4,
   "id": "8b146fb7-c987-451c-916f-b4af2d8d7c43",
   "metadata": {},
   "outputs": [
    {
     "name": "stdout",
     "output_type": "stream",
     "text": [
      "    Company  year  revenue\n",
      "2  Facebook  2019    704.0\n",
      "1     Apple  2019    260.0\n",
      "0    Google  2019    139.2\n"
     ]
    }
   ],
   "source": [
    "Sorted=companies.sort_values(by='revenue',ascending=False)\n",
    "print(Sorted)"
   ]
  },
  {
   "cell_type": "code",
   "execution_count": 28,
   "id": "f1ee80bd-c9e6-476c-8aab-7a8d1619d05b",
   "metadata": {},
   "outputs": [
    {
     "ename": "NameError",
     "evalue": "name 'revenue' is not defined",
     "output_type": "error",
     "traceback": [
      "\u001b[0;31m---------------------------------------------------------------------------\u001b[0m",
      "\u001b[0;31mNameError\u001b[0m                                 Traceback (most recent call last)",
      "Cell \u001b[0;32mIn[28], line 6\u001b[0m\n\u001b[1;32m      4\u001b[0m         X\u001b[38;5;241m+\u001b[39m\u001b[38;5;241m=\u001b[39melem\n\u001b[1;32m      5\u001b[0m     \u001b[38;5;28mprint\u001b[39m (X)\n\u001b[0;32m----> 6\u001b[0m m\u001b[38;5;241m=\u001b[39m k(companies,\u001b[43mrevenue\u001b[49m)\n\u001b[1;32m      7\u001b[0m \u001b[38;5;28mprint\u001b[39m(m)\n",
      "\u001b[0;31mNameError\u001b[0m: name 'revenue' is not defined"
     ]
    }
   ],
   "source": [
    "def k(df,x):\n",
    "    X=0\n",
    "    for elem in df['x']:\n",
    "        X+=elem\n",
    "    print (X)\n",
    "m= k(companies,revenue)\n",
    "print(m)"
   ]
  },
  {
   "cell_type": "code",
   "execution_count": 17,
   "id": "aba83dd3-bf37-45e2-a8e1-c32337067a13",
   "metadata": {},
   "outputs": [
    {
     "data": {
      "text/plain": [
       "1103.2"
      ]
     },
     "execution_count": 17,
     "metadata": {},
     "output_type": "execute_result"
    }
   ],
   "source": []
  },
  {
   "cell_type": "code",
   "execution_count": null,
   "id": "26c587ba-1d96-4da2-9fb2-387d3c5f5604",
   "metadata": {},
   "outputs": [],
   "source": []
  }
 ],
 "metadata": {
  "kernelspec": {
   "display_name": "Python 3 (ipykernel)",
   "language": "python",
   "name": "python3"
  },
  "language_info": {
   "codemirror_mode": {
    "name": "ipython",
    "version": 3
   },
   "file_extension": ".py",
   "mimetype": "text/x-python",
   "name": "python",
   "nbconvert_exporter": "python",
   "pygments_lexer": "ipython3",
   "version": "3.10.12"
  }
 },
 "nbformat": 4,
 "nbformat_minor": 5
}
