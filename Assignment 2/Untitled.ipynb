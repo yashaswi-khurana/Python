{
 "cells": [
  {
   "cell_type": "code",
   "execution_count": 1,
   "id": "46d6ee9c-939c-4583-a16d-08478b646964",
   "metadata": {},
   "outputs": [
    {
     "name": "stdout",
     "output_type": "stream",
     "text": [
      "['Hi', 'there', 'class!']\n"
     ]
    }
   ],
   "source": [
    "#Ques1\n",
    "s = \"Hi there class!\"\n",
    "output = s.split(\" \")\n",
    "print(output)"
   ]
  },
  {
   "cell_type": "code",
   "execution_count": 2,
   "id": "ea209094-41af-4634-92ca-2c13d1f3b5bb",
   "metadata": {},
   "outputs": [
    {
     "name": "stdout",
     "output_type": "stream",
     "text": [
      "The diameter of Earth is 12742 Kilometer.\n"
     ]
    }
   ],
   "source": [
    "# Ques2\n",
    "str=\"The diameter of {planet} is {diameter} Kilometer.\".format(planet=\"Earth\" , diameter=\"12742\")\n",
    "print(str)"
   ]
  },
  {
   "cell_type": "code",
   "execution_count": 3,
   "id": "c42feb47-f05c-499b-b6bd-fd1ad75bcf90",
   "metadata": {},
   "outputs": [
    {
     "name": "stdout",
     "output_type": "stream",
     "text": [
      "hello\n"
     ]
    }
   ],
   "source": [
    "# Ques3\n",
    "lst = [1,2,[3,4],[5,[100,200,['hello']],23,11],1,7]\n",
    "print(lst[3][1][2][0])"
   ]
  },
  {
   "cell_type": "code",
   "execution_count": 4,
   "id": "166f8ed2-9dc5-419f-86d6-d2221205b82c",
   "metadata": {},
   "outputs": [
    {
     "name": "stdout",
     "output_type": "stream",
     "text": [
      "hello\n"
     ]
    }
   ],
   "source": [
    "# Ques4\n",
    "d={'k1':[1,2,3,{'tricky':['oh','man','inception',{'target':[1,2,3,'hello']}]}]}\n",
    "print(d['k1'][3]['tricky'][3]['target'][3])"
   ]
  },
  {
   "cell_type": "code",
   "execution_count": 5,
   "id": "1dc58d8e-0124-401c-a855-2f9969ef7f91",
   "metadata": {},
   "outputs": [
    {
     "name": "stdin",
     "output_type": "stream",
     "text": [
      "Do you want to add email id y or n: y\n",
      "Please enter you email id:  yashaswikhurana2810@gmail.com\n",
      "Do you want to add email id y or n: y\n",
      "Please enter you email id:  yashaswikhurana.bt22cseds@pec.edu.in\n",
      "Do you want to add email id y or n: n\n"
     ]
    },
    {
     "name": "stdout",
     "output_type": "stream",
     "text": [
      "('yashaswikhurana2810@gmail.com', 'yashaswikhurana.bt22cseds@pec.edu.in')\n",
      "('gmail.com', 'pec.edu.in')\n"
     ]
    }
   ],
   "source": [
    "# Ques5\n",
    "i = 1\n",
    "email=[]\n",
    "domain=[]\n",
    "while i == 1:\n",
    "    n=input(\"Do you want to add email id y or n:\")\n",
    "    if n == \"y\":\n",
    "        email_id=input(\"Please enter you email id: \")\n",
    "        h=email_id.split('@')\n",
    "        email.append(email_id)\n",
    "        domain.append(h[1])\n",
    "    else:\n",
    "        break\n",
    "\n",
    "email_tuple=tuple(email)\n",
    "domain_tuple=tuple(domain)\n",
    "\n",
    "print(email_tuple)\n",
    "print(domain_tuple)"
   ]
  },
  {
   "cell_type": "code",
   "execution_count": 6,
   "id": "04923ae7-0c1c-4103-98cb-1c1e6b404eb8",
   "metadata": {},
   "outputs": [
    {
     "name": "stdin",
     "output_type": "stream",
     "text": [
      "Please enter your string:  Hey dog\n"
     ]
    },
    {
     "name": "stdout",
     "output_type": "stream",
     "text": [
      "True\n"
     ]
    }
   ],
   "source": [
    "# Ques6\n",
    "def function():\n",
    "    str= input(\"Please enter your string: \")\n",
    "    lst1= str.split(\" \")\n",
    "    for elem in lst1:\n",
    "            if (elem==\"Dog\" or elem==\"dog\"):\n",
    "                return True\n",
    "    return False\n",
    "print(function())"
   ]
  },
  {
   "cell_type": "code",
   "execution_count": 7,
   "id": "c1df65c9-5009-4363-a7a3-ac4a115e72b3",
   "metadata": {},
   "outputs": [
    {
     "name": "stdin",
     "output_type": "stream",
     "text": [
      "Please enter your string:  Dog dog dog.\n"
     ]
    },
    {
     "name": "stdout",
     "output_type": "stream",
     "text": [
      "3\n"
     ]
    }
   ],
   "source": [
    "# Ques7\n",
    "def function():\n",
    "    str= input(\"Please enter your string: \")\n",
    "    lst1= str.split(\" \")\n",
    "    count=0\n",
    "    for elem in lst1:\n",
    "            if (elem==\"Dog\" or elem==\"dog\" or elem==\"dog.\" or elem==\"Dog.\"):\n",
    "                count+=1\n",
    "    return count\n",
    "count = function()\n",
    "if(count==0):\n",
    "    print(\"Dog not present in function\")\n",
    "else:\n",
    "    print(count)"
   ]
  },
  {
   "cell_type": "code",
   "execution_count": 8,
   "id": "a7354a55-5e3d-4673-8279-6e0a793642d1",
   "metadata": {},
   "outputs": [
    {
     "name": "stdout",
     "output_type": "stream",
     "text": [
      "['soup', 'salad']\n"
     ]
    }
   ],
   "source": [
    "# Ques8\n",
    "sq= ['soup','dog','cat','great','salad']\n",
    "fil=filter(lambda word: word.startswith(\"s\" or \"S\"),sq)\n",
    "print(list(fil))"
   ]
  },
  {
   "cell_type": "code",
   "execution_count": 9,
   "id": "bf345b4e-eae5-40f3-88c4-cbe2d1218d38",
   "metadata": {},
   "outputs": [
    {
     "name": "stdout",
     "output_type": "stream",
     "text": [
      "Heavy Challan\n"
     ]
    }
   ],
   "source": [
    "# Ques9\n",
    "def caught(speed,bday):\n",
    "    if(bday==True):\n",
    "        speed=speed-5\n",
    "    if(speed<=60):\n",
    "        print('No Challan')\n",
    "    elif(61<=speed<=80):\n",
    "        print('Small Challan')\n",
    "    else:\n",
    "        print('Heavy Challan')\n",
    "    \n",
    "caught(81,False)"
   ]
  },
  {
   "cell_type": "code",
   "execution_count": 10,
   "id": "69a57e3b-e1d1-424e-85bd-c981483075f3",
   "metadata": {},
   "outputs": [
    {
     "name": "stdout",
     "output_type": "stream",
     "text": [
      "['My', 'name', 'iis', 'Shelly']\n"
     ]
    }
   ],
   "source": [
    "# Ques10\n",
    "list1 = [\"M\",\"na\",\"i\",\"She\"]\n",
    "list2 = [\"y\",\"me\",\"is\",\"lly\"]\n",
    "list3=[]\n",
    "for i in range(len(list1)):\n",
    "    list3.append(list1[i]+list2[i])\n",
    "print(list3)"
   ]
  },
  {
   "cell_type": "code",
   "execution_count": 11,
   "id": "09ef2aa6-e443-4780-b5cf-615122598f8a",
   "metadata": {},
   "outputs": [
    {
     "name": "stdout",
     "output_type": "stream",
     "text": [
      "['Hello Dear', 'Hello Sir', 'take Dear', 'take Sir']\n"
     ]
    }
   ],
   "source": [
    "# Ques11\n",
    "list1=[\"Hello \",\"take \"]\n",
    "list2=[\"Dear\",\"Sir\"]\n",
    "list3=[]\n",
    "for i in list1:\n",
    "    for j in list2:\n",
    "        list3.append(i+j)\n",
    "print(list3)"
   ]
  },
  {
   "cell_type": "code",
   "execution_count": 12,
   "id": "ea860c59-9014-46f6-a814-9d4ba7a34a2e",
   "metadata": {},
   "outputs": [
    {
     "name": "stdout",
     "output_type": "stream",
     "text": [
      "[10, 20, [300, 400, [5000, 6000, 7000], 500], 30, 40]\n"
     ]
    }
   ],
   "source": [
    "# Ques12\n",
    "list1 = [10,20,[300,400,[5000,6000],500],30,40]\n",
    "list1[2][2].append(7000)\n",
    "print(list1)"
   ]
  },
  {
   "cell_type": "code",
   "execution_count": 13,
   "id": "d4ff9df5-bd45-4ca2-8488-cb0a29d94601",
   "metadata": {},
   "outputs": [
    {
     "name": "stdout",
     "output_type": "stream",
     "text": [
      "[5, 15, 25, 50]\n"
     ]
    }
   ],
   "source": [
    "# Ques13\n",
    "# Remove all occurrence of 20\n",
    "list1=[5,20,15,20,25,50,20]\n",
    "for elem in list1:\n",
    "    if elem==20:\n",
    "        list1.remove(elem)\n",
    "print(list1)"
   ]
  },
  {
   "cell_type": "code",
   "execution_count": 14,
   "id": "38ebb059-d6d8-4bd0-88d0-1932d50f9836",
   "metadata": {},
   "outputs": [
    {
     "name": "stdout",
     "output_type": "stream",
     "text": [
      "Value found at: b\n"
     ]
    }
   ],
   "source": [
    "# Ques14\n",
    "di={'a':100,'b':200,'c':300}\n",
    "for i in di:\n",
    "    if(di[i]==200):\n",
    "        print(\"Value found at:\",i)\n",
    "        break\n",
    "else:\n",
    "    print(\"Value not found\")"
   ]
  },
  {
   "cell_type": "code",
   "execution_count": 15,
   "id": "da9aca56-8988-4866-8d4b-655b1c6c3ef9",
   "metadata": {},
   "outputs": [
    {
     "name": "stdin",
     "output_type": "stream",
     "text": [
      "Please enter value of n:  4\n"
     ]
    },
    {
     "name": "stdout",
     "output_type": "stream",
     "text": [
      "2468\n"
     ]
    }
   ],
   "source": [
    "# Ques15\n",
    "N= int(input(\"Please enter value of n: \"))\n",
    "x=0\n",
    "y=2\n",
    "z=10\n",
    "ans=0\n",
    "for i in range(N):\n",
    "    x+=(z**i)*y\n",
    "    ans+=x\n",
    "print(ans)"
   ]
  }
 ],
 "metadata": {
  "kernelspec": {
   "display_name": "Python 3 (ipykernel)",
   "language": "python",
   "name": "python3"
  },
  "language_info": {
   "codemirror_mode": {
    "name": "ipython",
    "version": 3
   },
   "file_extension": ".py",
   "mimetype": "text/x-python",
   "name": "python",
   "nbconvert_exporter": "python",
   "pygments_lexer": "ipython3",
   "version": "3.10.12"
  }
 },
 "nbformat": 4,
 "nbformat_minor": 5
}
